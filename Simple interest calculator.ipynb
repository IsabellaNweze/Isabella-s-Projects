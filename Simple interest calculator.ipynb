{
 "cells": [
  {
   "cell_type": "code",
   "execution_count": 1,
   "id": "421c5da2",
   "metadata": {},
   "outputs": [
    {
     "name": "stdout",
     "output_type": "stream",
     "text": [
      "Hi im here to help you calculate simple interest\n",
      "What is your account balance? 600\n",
      "What is the annual interest rate? 8\n",
      "How many years have you been saving3\n",
      " Your new balance is 755.8272000000001\n",
      "Your interest is 155.82720000000006\n"
     ]
    }
   ],
   "source": [
    "#program to calculate simple interest\n",
    "print(\"Hi im here to help you calculate simple interest\")\n",
    "a=input(\"What is your account balance? \")\n",
    "b=input(\"What is the annual interest rate? \")\n",
    "c=input(\"How many years have you been saving\")\n",
    "acct_balance= float(a)\n",
    "rate=float(b)\n",
    "time=float(c)\n",
    "newBalance= float(acct_balance*(1+(rate/100))**time)\n",
    "interest =float(newBalance-acct_balance)\n",
    "print(\"Your new balance is\", newBalance)\n",
    "print(\"Your interest is\", interest)"
   ]
  },
  {
   "cell_type": "code",
   "execution_count": null,
   "id": "34ebed8c",
   "metadata": {},
   "outputs": [],
   "source": []
  }
 ],
 "metadata": {
  "kernelspec": {
   "display_name": "Python 3 (ipykernel)",
   "language": "python",
   "name": "python3"
  },
  "language_info": {
   "codemirror_mode": {
    "name": "ipython",
    "version": 3
   },
   "file_extension": ".py",
   "mimetype": "text/x-python",
   "name": "python",
   "nbconvert_exporter": "python",
   "pygments_lexer": "ipython3",
   "version": "3.9.12"
  }
 },
 "nbformat": 4,
 "nbformat_minor": 5
}
