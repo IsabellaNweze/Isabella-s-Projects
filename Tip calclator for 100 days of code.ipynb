{
 "cells": [
  {
   "cell_type": "code",
   "execution_count": 2,
   "id": "50db9f54",
   "metadata": {},
   "outputs": [
    {
     "name": "stdout",
     "output_type": "stream",
     "text": [
      "Welcome to the tip calculator\n",
      "What was the total bill? 124.56\n",
      "what percentage would you like to give?, 10, 12 or 15? 12\n",
      "How many peopleto split the bill? 7\n",
      "Each person should pay : 19.93\n"
     ]
    }
   ],
   "source": [
    "print(\"Welcome to the tip calculator\");\n",
    "a= float(input(\"What was the total bill? \"))\n",
    "b= int(input(\"what percentage would you like to give?, 10, 12 or 15? \"))\n",
    "c= int(input(\"How many peopleto split the bill? \"))\n",
    "d= (((b/100) +1)*a)/c\n",
    "bill = round(d, 2)\n",
    "print(\"Each person should pay :\", bill)"
   ]
  },
  {
   "cell_type": "code",
   "execution_count": null,
   "id": "181c265c",
   "metadata": {},
   "outputs": [],
   "source": []
  },
  {
   "cell_type": "code",
   "execution_count": null,
   "id": "60e76f18",
   "metadata": {},
   "outputs": [],
   "source": []
  }
 ],
 "metadata": {
  "kernelspec": {
   "display_name": "Python 3 (ipykernel)",
   "language": "python",
   "name": "python3"
  },
  "language_info": {
   "codemirror_mode": {
    "name": "ipython",
    "version": 3
   },
   "file_extension": ".py",
   "mimetype": "text/x-python",
   "name": "python",
   "nbconvert_exporter": "python",
   "pygments_lexer": "ipython3",
   "version": "3.9.12"
  }
 },
 "nbformat": 4,
 "nbformat_minor": 5
}
