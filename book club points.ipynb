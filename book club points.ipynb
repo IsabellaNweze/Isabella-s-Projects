{
 "cells": [
  {
   "cell_type": "code",
   "execution_count": 11,
   "id": "e6cfaa17",
   "metadata": {},
   "outputs": [
    {
     "name": "stdout",
     "output_type": "stream",
     "text": [
      "how many books did you purchase in January 5\n",
      "how many books did you purchase in february 0\n",
      "how many books did you purchase in march -10\n",
      "how many books did you purchase in april 7\n",
      "how many books did you purchase in may 0\n",
      "invalid input\n",
      " total point is 120\n"
     ]
    }
   ],
   "source": [
    "book1=int(input(\"how many books did you purchase in January \"))\n",
    "book2=int(input(\"how many books did you purchase in february \"))\n",
    "book3=int(input(\"how many books did you purchase in march \"))\n",
    "book4= int(input(\"how many books did you purchase in april \"))\n",
    "book5= int(input(\"how many books did you purchase in may \"))\n",
    "pointsTotal= 0\n",
    "if book1 == 0:\n",
    "    pointsTotal+= 0\n",
    "elif book1==1:\n",
    "    pointsTotal+= 5\n",
    "elif book1==2:\n",
    "    pointsTotal+= 15\n",
    "elif book1 ==3:\n",
    "    pointsTotal+= 30\n",
    "elif book1 >=4:\n",
    "    pointsTotal+= 60\n",
    "else:\n",
    "    print(\"invalid input\")\n",
    "\n",
    "if book2 == 0:\n",
    "    pointsTotal+= 0\n",
    "elif book2==1:\n",
    "    pointsTotal+= 5\n",
    "elif book2==2:\n",
    "    pointsTotal+= 15\n",
    "elif book2 ==3:\n",
    "    pointsTotal+= 30\n",
    "elif book2 >=4:\n",
    "    pointsTotal+= 60\n",
    "else:\n",
    "    print(\"invalid input\")\n",
    "    \n",
    "if book3 == 0:\n",
    "    pointsTotal+= 0\n",
    "elif book3==1:\n",
    "    pointsTotal+= 5\n",
    "elif book3==2:\n",
    "    pointsTotal+= 15\n",
    "elif book3 ==3:\n",
    "    pointsTotal+= 30\n",
    "elif book3 >=4:\n",
    "    pointsTotal+= 60\n",
    "else:\n",
    "    print(\"invalid input\")\n",
    "\n",
    "if book4 == 0:\n",
    "    pointsTotal+= 0\n",
    "elif book4==1:\n",
    "    pointsTotal+= 5\n",
    "elif book4==2:\n",
    "    pointsTotal+= 15\n",
    "elif book4 ==3:\n",
    "    pointsTotal+= 30\n",
    "elif book4 >=4:\n",
    "    pointsTotal+= 60\n",
    "else:\n",
    "    print(\"invalid input\")\n",
    "    \n",
    "if book5 == 0:\n",
    "    pointsTotal+= 0\n",
    "elif book5==1:\n",
    "    pointsTotal+= 5\n",
    "elif book5==2:\n",
    "    pointsTotal+= 15\n",
    "elif book5 ==3:\n",
    "    pointsTotal+= 30\n",
    "elif book5 >=4:\n",
    "    pointsTotal+= 60\n",
    "else:\n",
    "    print(\"invalid input\")\n",
    "print(\" total point is\", pointsTotal)\n"
   ]
  },
  {
   "cell_type": "code",
   "execution_count": null,
   "id": "7faf7c39",
   "metadata": {},
   "outputs": [],
   "source": []
  },
  {
   "cell_type": "code",
   "execution_count": null,
   "id": "75456fab",
   "metadata": {},
   "outputs": [],
   "source": []
  }
 ],
 "metadata": {
  "kernelspec": {
   "display_name": "Python 3 (ipykernel)",
   "language": "python",
   "name": "python3"
  },
  "language_info": {
   "codemirror_mode": {
    "name": "ipython",
    "version": 3
   },
   "file_extension": ".py",
   "mimetype": "text/x-python",
   "name": "python",
   "nbconvert_exporter": "python",
   "pygments_lexer": "ipython3",
   "version": "3.9.12"
  }
 },
 "nbformat": 4,
 "nbformat_minor": 5
}
