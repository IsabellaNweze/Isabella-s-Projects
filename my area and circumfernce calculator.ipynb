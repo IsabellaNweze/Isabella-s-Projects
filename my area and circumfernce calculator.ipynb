{
 "cells": [
  {
   "cell_type": "code",
   "execution_count": 5,
   "id": "bcc8e7e0",
   "metadata": {},
   "outputs": [
    {
     "name": "stdout",
     "output_type": "stream",
     "text": [
      "Hi guys,welcome to my program\n",
      "I'm here to help you find the area and circumference of a circle\n",
      "What is the radius of your circle? 9\n",
      "The area of your circle is 254.57\n",
      "The circumference of your circle is 56.57\n",
      "Thank you for using my program, INC2004\n"
     ]
    }
   ],
   "source": [
    "#program to find the area and circumference of any circle\n",
    "print(\"Hi guys,welcome to my program\\nI'm here to help you find the area and circumference of a circle\")\n",
    "a= input(\"What is the radius of your circle? \")\n",
    "radius= float(a)\n",
    "Area=round(22/7*radius**2, 2)\n",
    "circumference = round(22/7*2*radius, 2)\n",
    "print(\"The area of your circle is\",  Area )\n",
    "print(\"The circumference of your circle is\", circumference)\n",
    "print(\"Thank you for using my program, INC2004\")"
   ]
  },
  {
   "cell_type": "code",
   "execution_count": null,
   "id": "0bc15798",
   "metadata": {},
   "outputs": [],
   "source": []
  },
  {
   "cell_type": "code",
   "execution_count": null,
   "id": "9ce2f7ad",
   "metadata": {},
   "outputs": [],
   "source": []
  }
 ],
 "metadata": {
  "kernelspec": {
   "display_name": "Python 3 (ipykernel)",
   "language": "python",
   "name": "python3"
  },
  "language_info": {
   "codemirror_mode": {
    "name": "ipython",
    "version": 3
   },
   "file_extension": ".py",
   "mimetype": "text/x-python",
   "name": "python",
   "nbconvert_exporter": "python",
   "pygments_lexer": "ipython3",
   "version": "3.9.12"
  }
 },
 "nbformat": 4,
 "nbformat_minor": 5
}
