{
 "cells": [
  {
   "cell_type": "code",
   "execution_count": null,
   "id": "f76e1762",
   "metadata": {},
   "outputs": [
    {
     "name": "stdout",
     "output_type": "stream",
     "text": [
      "Welcome to my simple math calculator\n"
     ]
    }
   ],
   "source": [
    "#this is a program that does basic calculations\n",
    "'''\n",
    "it does multiplication, addition, subtraction and division \n",
    "'''\n",
    "print(\"Welcome to my simple math calculator\")\n",
    "a= input(\"what is your first number \")\n",
    "num_1 = float(a)\n",
    "b= input(\"what is your second number \")\n",
    "num_2= float(b)\n",
    "ADD= float(num_1+num_2)\n",
    "SUBTRACT= float(num_1-num_2)\n",
    "MULTIPLY= float(num_1*num_2)\n",
    "DIVIDE= float(num_1/num_2)\n",
    "print( \"the sum is \", ADD)\n",
    "print(\"the subtraction of the two numbers is\", SUBTRACT)\n",
    "print(\"The multiplication of the two numbers is\", MULTIPLY)\n",
    "print(\"the division of the two numbers is \",DIVIDE)\n",
    "print(\"Thank you for using mysimplemathcalculator; copyrightINC2004\")\n",
    "\n",
    "\n"
   ]
  },
  {
   "cell_type": "code",
   "execution_count": null,
   "id": "a24f85c0",
   "metadata": {},
   "outputs": [],
   "source": []
  },
  {
   "cell_type": "code",
   "execution_count": null,
   "id": "29edcfed",
   "metadata": {},
   "outputs": [],
   "source": []
  }
 ],
 "metadata": {
  "kernelspec": {
   "display_name": "Python 3 (ipykernel)",
   "language": "python",
   "name": "python3"
  },
  "language_info": {
   "codemirror_mode": {
    "name": "ipython",
    "version": 3
   },
   "file_extension": ".py",
   "mimetype": "text/x-python",
   "name": "python",
   "nbconvert_exporter": "python",
   "pygments_lexer": "ipython3",
   "version": "3.9.12"
  }
 },
 "nbformat": 4,
 "nbformat_minor": 5
}
